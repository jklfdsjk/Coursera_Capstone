{
 "cells": [
  {
   "cell_type": "markdown",
   "metadata": {},
   "source": [
    "Scraping table data by using BeautifulSoup\n"
   ]
  },
  {
   "cell_type": "code",
   "execution_count": 6,
   "metadata": {
    "scrolled": true
   },
   "outputs": [],
   "source": [
    "from bs4 import BeautifulSoup\n",
    "import pandas as pd\n",
    "import requests\n",
    "\n",
    "#load beautifulsoup\n",
    "url = 'https://en.wikipedia.org/wiki/List_of_postal_codes_of_Canada:_M' \n",
    "source = requests.get(url).text\n",
    "soup = BeautifulSoup(source, 'lxml') #I will need to use 'lxml' for html format\n",
    "\n",
    "\n",
    "#get table from html. it starts from table tag\n",
    "table = soup.find('table')\n",
    "table_rows = table.find_all('tr') #table data is tagged by 'tr', and to make the dataframe I used this line of code\n"
   ]
  },
  {
   "cell_type": "markdown",
   "metadata": {},
   "source": [
    "Transform scraped data to dataframe"
   ]
  },
  {
   "cell_type": "code",
   "execution_count": 7,
   "metadata": {},
   "outputs": [],
   "source": [
    "l = []  #empty lists\n",
    "for tr in table_rows:  #generating lists of each table rows based on 'td' tags\n",
    "    td = tr.find_all('td')\n",
    "    row = [tr.text.strip() for tr in td]\n",
    "    l.append(row) #put this all lists in a list\n",
    "del l[0]    #delete the header row since it is empty\n",
    "df = pd.DataFrame(l, columns=[\"PostCode\", \"Borough\", \"Neighbourhood\"])  #generate the dataframe\n"
   ]
  },
  {
   "cell_type": "markdown",
   "metadata": {},
   "source": [
    "Cleaning and rearranging table"
   ]
  },
  {
   "cell_type": "code",
   "execution_count": null,
   "metadata": {},
   "outputs": [],
   "source": [
    "#remove rows which contain 'NOT ASSIGNED'\n",
    "df = df[df.Borough != 'Not assigned'] \n",
    "\n",
    "#Replace the Neighbourhood'value to Borough's value for each row if that is 'Not assigned'\n",
    "for i in range(len(df.Neighbourhood)):\n",
    "    if df.Neighbourhood.iloc[i] == 'Not assigned':\n",
    "        df.Neighbourhood.iloc[i] = df.Borough.iloc[i]\n",
    "#Aggregate Neighbourhood columns based on 'Borough'\n",
    "df = df.groupby(['PostCode', 'Borough']).agg({'Neighbourhood':','.join}).reset_index()\n",
    "df"
   ]
  },
  {
   "cell_type": "code",
   "execution_count": 3,
   "metadata": {},
   "outputs": [
    {
     "data": {
      "text/plain": [
       "(103, 3)"
      ]
     },
     "execution_count": 3,
     "metadata": {},
     "output_type": "execute_result"
    }
   ],
   "source": [
    "df.shape"
   ]
  },
  {
   "cell_type": "code",
   "execution_count": null,
   "metadata": {},
   "outputs": [],
   "source": []
  }
 ],
 "metadata": {
  "kernelspec": {
   "display_name": "Python 3",
   "language": "python",
   "name": "python3"
  },
  "language_info": {
   "codemirror_mode": {
    "name": "ipython",
    "version": 3
   },
   "file_extension": ".py",
   "mimetype": "text/x-python",
   "name": "python",
   "nbconvert_exporter": "python",
   "pygments_lexer": "ipython3",
   "version": "3.7.1"
  }
 },
 "nbformat": 4,
 "nbformat_minor": 2
}
